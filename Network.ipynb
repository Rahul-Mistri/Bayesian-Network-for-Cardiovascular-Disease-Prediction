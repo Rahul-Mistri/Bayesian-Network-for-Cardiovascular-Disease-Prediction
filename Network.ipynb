{
 "cells": [
  {
   "cell_type": "code",
   "execution_count": 28,
   "metadata": {},
   "outputs": [],
   "source": [
    "import pyAgrum as gum\n",
    "import pyAgrum.lib.notebook as gnb"
   ]
  },
  {
   "cell_type": "code",
   "execution_count": 29,
   "metadata": {},
   "outputs": [
    {
     "name": "stdout",
     "output_type": "stream",
     "text": [
      "Influence Diagram{\n",
      "  chance: 0,\n",
      "  utility: 0,\n",
      "  decision: 0,\n",
      "  arcs: 0,\n",
      "  domainSize: 1\n",
      "}\n"
     ]
    }
   ],
   "source": [
    "bn = gum.InfluenceDiagram()\n",
    "print(bn)"
   ]
  },
  {
   "cell_type": "code",
   "execution_count": 132,
   "metadata": {},
   "outputs": [],
   "source": [
    "bn = gum.InfluenceDiagram()\n",
    "#Add nodes\n",
    "HD = bn.add(gum.LabelizedVariable('Heart Disease','Heart Disease',0).addLabel('No').addLabel('Yes'))\n",
    "CPT = bn.add(gum.LabelizedVariable('Chest Pain Type','Chest Pain Type',0).addLabel('ASY').addLabel('ATA').addLabel('NAP').addLabel('TA'))\n",
    "#sex = bn.add(gum.LabelizedVariable('Sex','Patient Gender',0).addLabel(\"M\").addLabel(\"F\"))\n",
    "STSlope = bn.add(gum.LabelizedVariable('ST Slope','Slope of peak exercise ST segment',0).addLabel(\"Down\").addLabel(\"Flat\").addLabel(\"Up\"))\n",
    "#diabetic = bn.add(gum.LabelizedVariable('Diabetic','Fasting Blood Sugar',0).addLabel(\"No\").addLabel(\"Yes\"))\n",
    "ExAngina = bn.add(gum.LabelizedVariable('Excercise Angina','Exercise induce Angina',0).addLabel(\"No\").addLabel(\"Yes\"))\n",
    "#restingECG = bn.add(gum.LabelizedVariable('RestingECG','Resting Electrocardiogram Results',0).addLabel(\"LVH\").addLabel(\"Normal\").addLabel(\"ST\"))\n",
    "age = bn.add(gum.LabelizedVariable('Age','Patient Age Range in Years',0).addLabel(\"20s\").addLabel(\"30s\").addLabel(\"40s\").addLabel(\"50s\").addLabel(\"60s\").addLabel(\"70s\"))\n",
    "RBP = bn.add(gum.LabelizedVariable('Resting BP','Resting blood pressure',0).addLabel(\"Normal\").addLabel(\"Elevated\").addLabel(\"High\").addLabel(\"Extreme\"))\n",
    "OP = bn.add(gum.LabelizedVariable('Old Peak','Old Peak',0).addLabel(\"Normal\").addLabel(\"Risk\"))\n",
    "#maxHR = bn.add(gum.LabelizedVariable('Max HR','Maximum Heart Rate',0).addLabel(\"60-79\").addLabel(\"80-99\").addLabel(\"100-119\").addLabel(\"120-139\").addLabel(\"140-159\").addLabel(\"160-179\").addLabel(\"180-199\").addLabel(\"200-219\"))\n",
    "#cholesterol = bn.add(gum.LabelizedVariable('Cholesterol','Cholesterol Categories',0).addLabel(\"<200\").addLabel(\"200-239\").addLabel(\">240\"))\n",
    "\n",
    "#Add Arcs\n",
    "#bn.addArc(sex,cholesterol)\n",
    "#bn.addArc(cholesterol,restingECG)\n",
    "#bn.addArc(diabetic,cholesterol)\n",
    "#bn.addArc(cholesterol,HD)\n",
    "bn.addArc(age,RBP)\n",
    "bn.addArc(age,STSlope)\n",
    "#bn.addArc(STSlope,maxHR)\n",
    "#bn.addArc(maxHR,HD)\n",
    "bn.addArc(STSlope,HD)\n",
    "bn.addArc(STSlope,ExAngina)\n",
    "bn.addArc(ExAngina,OP)\n",
    "bn.addArc(CPT,ExAngina)\n",
    "bn.addArc(CPT,HD)\n",
    "\n",
    "\n",
    "#Add utility and action nodes\n",
    "u = bn.addUtilityNode(gum.LabelizedVariable(\"U\",\"Utility\", 1))\n",
    "action = bn.addDecisionNode(gum.LabelizedVariable(\"Intervene\", \"Medical Intervention\"))\n",
    "\n",
    "bn.addArc(HD,u)\n",
    "bn.addArc(action,u)"
   ]
  },
  {
   "cell_type": "code",
   "execution_count": 156,
   "metadata": {},
   "outputs": [],
   "source": [
    "#WORKING\n",
    "bn.cpt(age).fillWith([0.007092,\t0.086879,\t0.246454,\t0.413121,\t0.210993,\t0.035461])\n",
    "bn.cpt(STSlope)[:]=[[0.000000,\t0.000000,\t1.000000],[0.040816,\t0.346939,\t0.612245],[0.028777,\t0.424460,\t0.546763],[0.064378,\t0.510730,\t0.424893],[0.092437,\t0.655462,\t0.252101],[0.300000,\t0.550000,\t0.150000]]\n",
    "bn.cpt(RBP)[:]=[[0.000000,\t0.250000,\t0.500000,\t0.250000],[0.285714,\t0.346939,\t0.163265,\t0.204082],[0.223022,\t0.244604,\t0.237410,\t0.294964],[0.103004,\t0.240343,\t0.248927,\t0.407725],[0.100840,\t0.176471,\t0.235294,\t0.487395],[0.050000,\t0.150000,\t0.150000,\t0.650000]]\n",
    "#bn.cpt(diabetic).fillWith([0.812057, 0.187943])\n",
    "#bn.cpt(cholesterol)[:] = [[0.216157,0.338428,0.445415],[0.150943,0.358491,0.490566]]\n",
    "#bn.cpt(maxHR)[:] =[[0.026316,\t0.052632,\t0.289474,\t0.184211,\t0.342105,\t0.052632,\t0.052632,\t0.000000],[0.007042,\t0.091549,\t0.221831,\t0.334507,\t0.239437,\t0.084507,\t0.021127,\t0.000000],[0.000000,\t0.020661,\t0.086777,\t0.202479,\t0.297521,\t0.314050,\t0.074380,\t0.004132]]\n",
    "#bn.cpt(restingECG)[:]=[[0.182609,\t0.643478,\t0.173913],[0.207254,\t0.601036,\t0.191710],[0.265625,\t0.570312,\t0.164062]]\n",
    "bn.cpt(CPT).fillWith([0.546099,\t0.189716,\t0.207447,\t0.056738])\n",
    "bn.cpt(ExAngina)[:]=[[[0.071429,\t0.928571],[0.260000,\t0.740000],[0.675000,\t0.325000]],[[1.000000,\t0.000000],[0.578947,\t0.421053],[0.965116,\t0.034884]],[[1.000000,\t0.000000],[0.479167,\t0.520833],[0.921875,\t0.078125]],[[1.000000,\t0.000000],[0.764706,\t0.235294],[0.833333,\t0.166667]]]\n",
    "bn.cpt(OP)[:]=[[0.940063,\t0.059937],[0.773279,\t0.226721]]\n",
    "bn.cpt(HD)[:]=[[[0.071429,\t0.928571],[0.075000,\t0.925000],[0.600000,\t0.400000]],[[0.500000,\t0.500000],[0.315789,\t0.684211],[0.965116,\t0.034884]],[[0.800000,\t0.200000],[0.250000,\t0.750000],[0.937500,\t0.062500]],[[0.666667,\t0.333333],[0.352941,\t0.647059],[0.750000,\t0.250000]]]"
   ]
  },
  {
   "cell_type": "code",
   "execution_count": 157,
   "metadata": {},
   "outputs": [
    {
     "data": {
      "text/html": [
       "<table style=\"border:1px solid black;\">\n",
       "<tr><th colspan='2'></th>\n",
       "      <th colspan='2' style='border:1px solid black;color:black;background-color:#808080;'><center>Heart Disease</center>\n",
       "      </th></tr>\n",
       "<tr><th style='border:1px solid black;color:black;background-color:#808080'><center>Chest Pain Type</center></th><th style='border:1px solid black;color:black;background-color:#808080'><center>ST Slope</center></th><th style='border:1px solid black;border-bottom-style: double;color:black;background-color:#BBBBBB'>\n",
       "      <center>No</center></th><th style='border:1px solid black;border-bottom-style: double;color:black;background-color:#BBBBBB'>\n",
       "      <center>Yes</center></th></tr>\n",
       "<tr><th style='border:1px solid black;color:black;background-color:#BBBBBB;' rowspan = '3'>\n",
       "            <center>ASY</center></th><th style='border:1px solid black;color:black;background-color:#BBBBBB'><center>Down</center></th><td style='color:black;background-color:#f58864;text-align:right;'>0.0714</td><td style='color:black;background-color:#88f564;text-align:right;'>0.9286</td></tr>\n",
       "<tr><th style='border:1px solid black;color:black;background-color:#BBBBBB'><center>Flat</center></th><td style='color:black;background-color:#f58864;text-align:right;'>0.0750</td><td style='color:black;background-color:#88f564;text-align:right;'>0.9250</td></tr>\n",
       "<tr><th style='border:1px solid black;color:black;background-color:#BBBBBB'><center>Up</center></th><td style='color:black;background-color:#b2cb64;text-align:right;'>0.6000</td><td style='color:black;background-color:#cbb264;text-align:right;'>0.4000</td></tr>\n",
       "<tr><th style='border:1px solid black;color:black;background-color:#BBBBBB;' rowspan = '3'>\n",
       "            <center>ATA</center></th><th style='border:1px solid black;color:black;background-color:#BBBBBB'><center>Down</center></th><td style='color:black;background-color:#bfbf64;text-align:right;'>0.5000</td><td style='color:black;background-color:#bfbf64;text-align:right;'>0.5000</td></tr>\n",
       "<tr><th style='border:1px solid black;color:black;background-color:#BBBBBB'><center>Flat</center></th><td style='color:black;background-color:#d6a764;text-align:right;'>0.3158</td><td style='color:black;background-color:#a7d664;text-align:right;'>0.6842</td></tr>\n",
       "<tr><th style='border:1px solid black;color:black;background-color:#BBBBBB'><center>Up</center></th><td style='color:black;background-color:#83fa64;text-align:right;'>0.9651</td><td style='color:black;background-color:#fa8364;text-align:right;'>0.0349</td></tr>\n",
       "<tr><th style='border:1px solid black;color:black;background-color:#BBBBBB;' rowspan = '3'>\n",
       "            <center>NAP</center></th><th style='border:1px solid black;color:black;background-color:#BBBBBB'><center>Down</center></th><td style='color:black;background-color:#98e564;text-align:right;'>0.8000</td><td style='color:black;background-color:#e59864;text-align:right;'>0.2000</td></tr>\n",
       "<tr><th style='border:1px solid black;color:black;background-color:#BBBBBB'><center>Flat</center></th><td style='color:black;background-color:#df9f64;text-align:right;'>0.2500</td><td style='color:black;background-color:#9fdf64;text-align:right;'>0.7500</td></tr>\n",
       "<tr><th style='border:1px solid black;color:black;background-color:#BBBBBB'><center>Up</center></th><td style='color:black;background-color:#87f764;text-align:right;'>0.9375</td><td style='color:black;background-color:#f78764;text-align:right;'>0.0625</td></tr>\n",
       "<tr><th style='border:1px solid black;color:black;background-color:#BBBBBB;' rowspan = '3'>\n",
       "            <center>TA</center></th><th style='border:1px solid black;color:black;background-color:#BBBBBB'><center>Down</center></th><td style='color:black;background-color:#a9d464;text-align:right;'>0.6667</td><td style='color:black;background-color:#d4a964;text-align:right;'>0.3333</td></tr>\n",
       "<tr><th style='border:1px solid black;color:black;background-color:#BBBBBB'><center>Flat</center></th><td style='color:black;background-color:#d1ac64;text-align:right;'>0.3529</td><td style='color:black;background-color:#acd164;text-align:right;'>0.6471</td></tr>\n",
       "<tr><th style='border:1px solid black;color:black;background-color:#BBBBBB'><center>Up</center></th><td style='color:black;background-color:#9fdf64;text-align:right;'>0.7500</td><td style='color:black;background-color:#df9f64;text-align:right;'>0.2500</td></tr>\n",
       "</table>"
      ],
      "text/plain": [
       "(pyAgrum.Potential<double>@0000013760152E90) \n",
       "             ||  Heart Disease    |\n",
       "ST Slo|Chest ||No       |Yes      |\n",
       "------|------||---------|---------|\n",
       "Down  |ASY   || 0.0714  | 0.9286  |\n",
       "Flat  |ASY   || 0.0750  | 0.9250  |\n",
       "Up    |ASY   || 0.6000  | 0.4000  |\n",
       "Down  |ATA   || 0.5000  | 0.5000  |\n",
       "Flat  |ATA   || 0.3158  | 0.6842  |\n",
       "Up    |ATA   || 0.9651  | 0.0349  |\n",
       "Down  |NAP   || 0.8000  | 0.2000  |\n",
       "Flat  |NAP   || 0.2500  | 0.7500  |\n",
       "Up    |NAP   || 0.9375  | 0.0625  |\n",
       "Down  |TA    || 0.6667  | 0.3333  |\n",
       "Flat  |TA    || 0.3529  | 0.6471  |\n",
       "Up    |TA    || 0.7500  | 0.2500  |"
      ]
     },
     "execution_count": 157,
     "metadata": {},
     "output_type": "execute_result"
    }
   ],
   "source": [
    "(bn.cpt(HD))"
   ]
  },
  {
   "cell_type": "code",
   "execution_count": 158,
   "metadata": {},
   "outputs": [
    {
     "data": {
      "text/html": [
       "<svg xmlns=\"http://www.w3.org/2000/svg\" xmlns:xlink=\"http://www.w3.org/1999/xlink\" width=\"432pt\" height=\"253pt\" viewBox=\"0.00 0.00 432.00 253.45\">\n",
       "<g id=\"graph0\" class=\"graph\" transform=\"scale(0.88 0.88) rotate(0) translate(4 282.39)\">\n",
       "<title>G</title>\n",
       "<!-- Heart Disease -->\n",
       "<g id=\"node1\" class=\"node\">\n",
       "<title>Heart Disease</title>\n",
       "<ellipse fill=\"#808080\" stroke=\"black\" cx=\"148\" cy=\"-103.86\" rx=\"64.19\" ry=\"20.51\"/>\n",
       "<text text-anchor=\"middle\" x=\"148\" y=\"-100.16\" font-family=\"Times New Roman,serif\" font-size=\"14.00\" fill=\"white\">Heart Disease</text>\n",
       "</g>\n",
       "<!-- U -->\n",
       "<g id=\"node9\" class=\"node\">\n",
       "<title>U</title>\n",
       "<polygon fill=\"#50508a\" stroke=\"black\" points=\"118,-23.68 104.5,-47.54 77.5,-47.54 64,-23.68 77.5,0.18 104.5,0.18 118,-23.68\"/>\n",
       "<text text-anchor=\"middle\" x=\"91\" y=\"-19.98\" font-family=\"Times New Roman,serif\" font-size=\"14.00\" fill=\"white\">U</text>\n",
       "</g>\n",
       "<!-- Heart Disease&#45;&gt;U -->\n",
       "<g id=\"edge1\" class=\"edge\">\n",
       "<title>Heart Disease-&gt;U</title>\n",
       "<path fill=\"none\" stroke=\"black\" stroke-dasharray=\"5,2\" d=\"M133.91,-83.54C127.27,-74.42 119.2,-63.36 111.87,-53.3\"/>\n",
       "<polygon fill=\"black\" stroke=\"black\" points=\"114.64,-51.17 105.92,-45.15 108.99,-55.29 114.64,-51.17\"/>\n",
       "</g>\n",
       "<!-- Chest Pain Type -->\n",
       "<g id=\"node2\" class=\"node\">\n",
       "<title>Chest Pain Type</title>\n",
       "<ellipse fill=\"#808080\" stroke=\"black\" cx=\"157\" cy=\"-180.88\" rx=\"76.24\" ry=\"20.51\"/>\n",
       "<text text-anchor=\"middle\" x=\"157\" y=\"-177.18\" font-family=\"Times New Roman,serif\" font-size=\"14.00\" fill=\"white\">Chest Pain Type</text>\n",
       "</g>\n",
       "<!-- Chest Pain Type&#45;&gt;Heart Disease -->\n",
       "<g id=\"edge2\" class=\"edge\">\n",
       "<title>Chest Pain Type-&gt;Heart Disease</title>\n",
       "<path fill=\"none\" stroke=\"black\" d=\"M154.64,-160.17C153.69,-152.33 152.59,-143.14 151.56,-134.53\"/>\n",
       "<polygon fill=\"black\" stroke=\"black\" points=\"155.02,-133.95 150.35,-124.44 148.07,-134.79 155.02,-133.95\"/>\n",
       "</g>\n",
       "<!-- Excercise Angina -->\n",
       "<g id=\"node4\" class=\"node\">\n",
       "<title>Excercise Angina</title>\n",
       "<ellipse fill=\"#808080\" stroke=\"black\" cx=\"309\" cy=\"-103.86\" rx=\"78.48\" ry=\"20.51\"/>\n",
       "<text text-anchor=\"middle\" x=\"309\" y=\"-100.16\" font-family=\"Times New Roman,serif\" font-size=\"14.00\" fill=\"white\">Excercise Angina</text>\n",
       "</g>\n",
       "<!-- Chest Pain Type&#45;&gt;Excercise Angina -->\n",
       "<g id=\"edge3\" class=\"edge\">\n",
       "<title>Chest Pain Type-&gt;Excercise Angina</title>\n",
       "<path fill=\"none\" stroke=\"black\" d=\"M192.25,-162.48C213.76,-151.86 241.44,-138.2 264.46,-126.84\"/>\n",
       "<polygon fill=\"black\" stroke=\"black\" points=\"266.26,-129.86 273.67,-122.3 263.16,-123.58 266.26,-129.86\"/>\n",
       "</g>\n",
       "<!-- ST Slope -->\n",
       "<g id=\"node3\" class=\"node\">\n",
       "<title>ST Slope</title>\n",
       "<ellipse fill=\"#808080\" stroke=\"black\" cx=\"304\" cy=\"-180.88\" rx=\"48.17\" ry=\"20.51\"/>\n",
       "<text text-anchor=\"middle\" x=\"304\" y=\"-177.18\" font-family=\"Times New Roman,serif\" font-size=\"14.00\" fill=\"white\">ST Slope</text>\n",
       "</g>\n",
       "<!-- ST Slope&#45;&gt;Heart Disease -->\n",
       "<g id=\"edge4\" class=\"edge\">\n",
       "<title>ST Slope-&gt;Heart Disease</title>\n",
       "<path fill=\"none\" stroke=\"black\" d=\"M273.18,-165.06C249.85,-153.84 217.5,-138.28 191.53,-125.8\"/>\n",
       "<polygon fill=\"black\" stroke=\"black\" points=\"192.81,-122.53 182.28,-121.35 189.78,-128.83 192.81,-122.53\"/>\n",
       "</g>\n",
       "<!-- ST Slope&#45;&gt;Excercise Angina -->\n",
       "<g id=\"edge5\" class=\"edge\">\n",
       "<title>ST Slope-&gt;Excercise Angina</title>\n",
       "<path fill=\"none\" stroke=\"black\" d=\"M305.31,-160.17C305.84,-152.33 306.45,-143.14 307.02,-134.53\"/>\n",
       "<polygon fill=\"black\" stroke=\"black\" points=\"310.52,-134.65 307.7,-124.44 303.54,-134.18 310.52,-134.65\"/>\n",
       "</g>\n",
       "<!-- Old Peak -->\n",
       "<g id=\"node7\" class=\"node\">\n",
       "<title>Old Peak</title>\n",
       "<ellipse fill=\"#808080\" stroke=\"black\" cx=\"309\" cy=\"-23.68\" rx=\"46.84\" ry=\"20.51\"/>\n",
       "<text text-anchor=\"middle\" x=\"309\" y=\"-19.98\" font-family=\"Times New Roman,serif\" font-size=\"14.00\" fill=\"white\">Old Peak</text>\n",
       "</g>\n",
       "<!-- Excercise Angina&#45;&gt;Old Peak -->\n",
       "<g id=\"edge6\" class=\"edge\">\n",
       "<title>Excercise Angina-&gt;Old Peak</title>\n",
       "<path fill=\"none\" stroke=\"black\" d=\"M309,-83.13C309,-74.52 309,-64.23 309,-54.71\"/>\n",
       "<polygon fill=\"black\" stroke=\"black\" points=\"312.5,-54.4 309,-44.4 305.5,-54.4 312.5,-54.4\"/>\n",
       "</g>\n",
       "<!-- Age -->\n",
       "<g id=\"node5\" class=\"node\">\n",
       "<title>Age</title>\n",
       "<ellipse fill=\"#808080\" stroke=\"black\" cx=\"364\" cy=\"-257.89\" rx=\"27\" ry=\"20.51\"/>\n",
       "<text text-anchor=\"middle\" x=\"364\" y=\"-254.19\" font-family=\"Times New Roman,serif\" font-size=\"14.00\" fill=\"white\">Age</text>\n",
       "</g>\n",
       "<!-- Age&#45;&gt;ST Slope -->\n",
       "<g id=\"edge7\" class=\"edge\">\n",
       "<title>Age-&gt;ST Slope</title>\n",
       "<path fill=\"none\" stroke=\"black\" d=\"M350.39,-239.87C342.96,-230.59 333.61,-218.9 325.26,-208.45\"/>\n",
       "<polygon fill=\"black\" stroke=\"black\" points=\"327.8,-206.03 318.82,-200.41 322.33,-210.4 327.8,-206.03\"/>\n",
       "</g>\n",
       "<!-- Resting BP -->\n",
       "<g id=\"node6\" class=\"node\">\n",
       "<title>Resting BP</title>\n",
       "<ellipse fill=\"#808080\" stroke=\"black\" cx=\"425\" cy=\"-180.88\" rx=\"55.31\" ry=\"20.51\"/>\n",
       "<text text-anchor=\"middle\" x=\"425\" y=\"-177.18\" font-family=\"Times New Roman,serif\" font-size=\"14.00\" fill=\"white\">Resting BP</text>\n",
       "</g>\n",
       "<!-- Age&#45;&gt;Resting BP -->\n",
       "<g id=\"edge8\" class=\"edge\">\n",
       "<title>Age-&gt;Resting BP</title>\n",
       "<path fill=\"none\" stroke=\"black\" d=\"M377.84,-239.87C385.33,-230.66 394.75,-219.07 403.2,-208.68\"/>\n",
       "<polygon fill=\"black\" stroke=\"black\" points=\"406.12,-210.64 409.71,-200.67 400.69,-206.22 406.12,-210.64\"/>\n",
       "</g>\n",
       "<!-- Intervene -->\n",
       "<g id=\"node8\" class=\"node\">\n",
       "<title>Intervene</title>\n",
       "<polygon fill=\"#9a5050\" stroke=\"black\" points=\"66,-118.36 0,-118.36 0,-89.36 66,-89.36 66,-118.36\"/>\n",
       "<text text-anchor=\"middle\" x=\"33\" y=\"-100.16\" font-family=\"Times New Roman,serif\" font-size=\"14.00\" fill=\"white\">Intervene</text>\n",
       "</g>\n",
       "<!-- Intervene&#45;&gt;U -->\n",
       "<g id=\"edge9\" class=\"edge\">\n",
       "<title>Intervene-&gt;U</title>\n",
       "<path fill=\"none\" stroke=\"black\" stroke-dasharray=\"5,2\" d=\"M43.1,-89.24C50.43,-79.36 60.62,-65.63 69.71,-53.37\"/>\n",
       "<polygon fill=\"black\" stroke=\"black\" points=\"72.64,-55.31 75.78,-45.19 67.02,-51.13 72.64,-55.31\"/>\n",
       "</g>\n",
       "</g>\n",
       "</svg>"
      ],
      "text/plain": [
       "(pyAgrum.InfluenceDiagram<double>@00000137601D3F40) Influence Diagram{\n",
       "  chance: 7,\n",
       "  utility: 1,\n",
       "  decision: 1,\n",
       "  arcs: 9,\n",
       "  domainSize: 4608\n",
       "}"
      ]
     },
     "execution_count": 158,
     "metadata": {},
     "output_type": "execute_result"
    }
   ],
   "source": [
    "bn"
   ]
  },
  {
   "cell_type": "code",
   "execution_count": null,
   "metadata": {},
   "outputs": [],
   "source": []
  }
 ],
 "metadata": {
  "interpreter": {
   "hash": "ac59ebe37160ed0dfa835113d9b8498d9f09ceb179beaac4002f036b9467c963"
  },
  "kernelspec": {
   "display_name": "Python 3.9.6 64-bit",
   "name": "python3"
  },
  "language_info": {
   "codemirror_mode": {
    "name": "ipython",
    "version": 3
   },
   "file_extension": ".py",
   "mimetype": "text/x-python",
   "name": "python",
   "nbconvert_exporter": "python",
   "pygments_lexer": "ipython3",
   "version": "3.9.6"
  },
  "orig_nbformat": 4
 },
 "nbformat": 4,
 "nbformat_minor": 2
}
