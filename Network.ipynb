{
 "cells": [
  {
   "cell_type": "code",
   "execution_count": 28,
   "metadata": {},
   "outputs": [],
   "source": [
    "import pyAgrum as gum\n",
    "import pyAgrum.lib.notebook as gnb"
   ]
  },
  {
   "cell_type": "code",
   "execution_count": 29,
   "metadata": {},
   "outputs": [
    {
     "name": "stdout",
     "output_type": "stream",
     "text": [
      "Influence Diagram{\n",
      "  chance: 0,\n",
      "  utility: 0,\n",
      "  decision: 0,\n",
      "  arcs: 0,\n",
      "  domainSize: 1\n",
      "}\n"
     ]
    }
   ],
   "source": [
    "bn = gum.InfluenceDiagram()\n",
    "print(bn)"
   ]
  },
  {
   "cell_type": "code",
   "execution_count": 106,
   "metadata": {},
   "outputs": [],
   "source": [
    "bn = gum.InfluenceDiagram()\n",
    "#Add nodes\n",
    "HD = bn.add(gum.LabelizedVariable('Heart Disease','Heart Disease',0).addLabel('Yes').addLabel('No'))\n",
    "CPT = bn.add(gum.LabelizedVariable('Chest Pain Type','Chest Pain Type',0).addLabel('ASY').addLabel('ATA').addLabel('NAP').addLabel('TA'))\n",
    "#sex = bn.add(gum.LabelizedVariable('Sex','Patient Gender',0).addLabel(\"M\").addLabel(\"F\"))\n",
    "STSlope = bn.add(gum.LabelizedVariable('ST Slope','Slope of peak exercise ST segment',0).addLabel(\"Down\").addLabel(\"Flat\").addLabel(\"Up\"))\n",
    "diabetic = bn.add(gum.LabelizedVariable('Diabetic','Fasting Blood Sugar',0).addLabel(\"No\").addLabel(\"Yes\"))\n",
    "ExAngina = bn.add(gum.LabelizedVariable('Excercise Angina','Exercise induce Angina',0).addLabel(\"No\").addLabel(\"Yes\"))\n",
    "restingECG = bn.add(gum.LabelizedVariable('RestingECG','Resting Electrocardiogram Results',0).addLabel(\"LVH\").addLabel(\"Normal\").addLabel(\"ST\"))\n",
    "age = bn.add(gum.LabelizedVariable('Age','Patient Age Range in Years',0).addLabel(\"20s\").addLabel(\"30s\").addLabel(\"40s\").addLabel(\"50s\").addLabel(\"60s\").addLabel(\"70s\"))\n",
    "RBP = bn.add(gum.LabelizedVariable('Resting BP','Resting blood pressure',0).addLabel(\"Normal\").addLabel(\"Elevated\").addLabel(\"High\").addLabel(\"Extreme\"))\n",
    "OP = bn.add(gum.LabelizedVariable('Old Peak','Old Peak',0).addLabel(\"Normal\").addLabel(\"Risk\"))\n",
    "maxHR = bn.add(gum.LabelizedVariable('Max HR','Maximum Heart Rate',0).addLabel(\"60-79\").addLabel(\"80-99\").addLabel(\"100-119\").addLabel(\"120-139\").addLabel(\"140-159\").addLabel(\"160-179\").addLabel(\"180-199\").addLabel(\"200-219\"))\n",
    "cholesterol = bn.add(gum.LabelizedVariable('Cholesterol','Cholesterol Categories',0).addLabel(\"<200\").addLabel(\"200-239\").addLabel(\">240\"))\n",
    "\n",
    "#Add Arcs\n",
    "#bn.addArc(sex,cholesterol)\n",
    "bn.addArc(cholesterol,restingECG)\n",
    "bn.addArc(diabetic,cholesterol)\n",
    "bn.addArc(cholesterol,HD)\n",
    "bn.addArc(age,RBP)\n",
    "bn.addArc(age,STSlope)\n",
    "bn.addArc(STSlope,maxHR)\n",
    "bn.addArc(maxHR,HD)\n",
    "bn.addArc(STSlope,ExAngina)\n",
    "bn.addArc(ExAngina,OP)\n",
    "bn.addArc(CPT,ExAngina)\n",
    "bn.addArc(CPT,HD)\n",
    "\n",
    "\n",
    "#Add utility and action nodes\n",
    "u = bn.addUtilityNode(gum.LabelizedVariable(\"U\",\"Utility\", 1))\n",
    "action = bn.addDecisionNode(gum.LabelizedVariable(\"Intervene\", \"Medical Intervention\"))\n",
    "\n",
    "bn.addArc(HD,u)\n",
    "bn.addArc(action,u)"
   ]
  },
  {
   "cell_type": "code",
   "execution_count": 113,
   "metadata": {},
   "outputs": [
    {
     "name": "stdout",
     "output_type": "stream",
     "text": [
      "hiii\n"
     ]
    }
   ],
   "source": [
    "#WORKING\n",
    "bn.cpt(age).fillWith([0.007092,\t0.086879,\t0.246454,\t0.413121,\t0.210993,\t0.035461])\n",
    "bn.cpt(STSlope)[:]=[[0.000000,\t0.000000,\t1.000000],[0.040816,\t0.346939,\t0.612245],[0.028777,\t0.424460,\t0.546763],[0.064378,\t0.510730,\t0.424893],[0.092437,\t0.655462,\t0.252101],[0.300000,\t0.550000,\t0.150000]]\n",
    "bn.cpt(RBP)[:]=[[0.000000,\t0.250000,\t0.500000,\t0.250000],[0.285714,\t0.346939,\t0.163265,\t0.204082],[0.223022,\t0.244604,\t0.237410,\t0.294964],[0.103004,\t0.240343,\t0.248927,\t0.407725],[0.100840,\t0.176471,\t0.235294,\t0.487395],[0.050000,\t0.150000,\t0.150000,\t0.650000]]\n",
    "bn.cpt(diabetic).fillWith([0.812057, 0.187943])\n",
    "bn.cpt(cholesterol)[:] = [[0.216157,0.338428,0.445415],[0.150943,0.358491,0.490566]]\n",
    "bn.cpt(maxHR)[:] =[[0.026316,\t0.052632,\t0.289474,\t0.184211,\t0.342105,\t0.052632,\t0.052632,\t0.000000],[0.007042,\t0.091549,\t0.221831,\t0.334507,\t0.239437,\t0.084507,\t0.021127,\t0.000000],[0.000000,\t0.020661,\t0.086777,\t0.202479,\t0.297521,\t0.314050,\t0.074380,\t0.004132]]\n",
    "bn.cpt(restingECG)[:]=[[0.182609,\t0.643478,\t0.173913],[0.207254,\t0.601036,\t0.191710],[0.265625,\t0.570312,\t0.164062]]\n",
    "bn.cpt(CPT).fillWith([0.546099,\t0.189716,\t0.207447,\t0.056738])\n",
    "bn.cpt(ExAngina)[:]=[[[0.071429,\t0.928571],[0.260000,\t0.740000],[0.675000,\t0.325000]],[[1.000000,\t0.000000],[0.578947,\t0.421053],[0.965116,\t0.034884]],[[1.000000,\t0.000000],[0.479167,\t0.520833],[0.921875,\t0.078125]],[[1.000000,\t0.000000],[0.764706,\t0.235294],[0.833333,\t0.166667]]]\n",
    "bn.cpt(OP)[:]=[[0.940063,\t0.059937],[0.773279,\t0.226721]]\n",
    "print(\"hiii\")"
   ]
  },
  {
   "cell_type": "code",
   "execution_count": 119,
   "metadata": {},
   "outputs": [],
   "source": [
    "bn.cpt(HD)[:]=[[[[0,\t0],[0,\t1],[0.5,\t0.5]],[[0,\t1],[0.3333333333,\t0.6666666667],[0,\t1]],[[0.1428571429,\t0.8571428571],[0.16,\t0.84],[0.1081081081,\t0.8918918919]],[[0.2,\t0.8],[0.1818181818,\t0.8181818182],[0.1627906977,\t0.8372093023]],[[0.4,\t0.6],[0.347826087,\t0.652173913],[0.1842105263,\t0.8157894737]],[[0,\t1],[0.5454545455,\t0.4545454545],[0.2307692308,\t0.7692307692]],[[0,\t0],[0.5,\t0.5],[1,\t0]],[[0,\t0],[0,\t0],[0,\t0]]],[[[0,\t0],[0,\t0],[0,\t0]],[[0,\t1],[0,\t0],[0.5,\t0.5]],[[1,\t0],[1,\t0],[0.8,\t0.2]],[[1,\t0],[0.8333333333,\t0.1666666667],[0.6,\t0.4]],[[1,\t0],[1,\t0],[0.6666666667,\t0.3333333333]],[[1,\t0],[0.8181818182,\t0.1818181818],[0.8947368421,\t0.1052631579]],[[1,\t0],[1,\t0],[0.6666666667,\t0.3333333333]],[[0,\t0],[1,\t0],[0,\t\t0]]],[[[0,\t0],[0,\t0],[0,\t0]],[[0,\t0],[0.6,\t0.4],[0,\t1]],[[1,\t0],[0.25,\t0.75],[0,\t1]],[[0.375,\t0.625],[0.5,\t0.5],[0.5,\t0.5]],[[0.6666666667,\t0.3333333333],[0.6153846154,\t0.3846153846],[0.5,\t0.5]],[[1,\t0],[0.6923076923,\t0.3076923077],[0.9090909091,\t0.09090909091]],[[0,\t0],[1,\t0],[1,\t0]],[[0,\t0],[0,\t0],[0,\t0]]],[[[0,\t0],[0,\t0],[0,\t0]],[[0,\t0],[0,\t0],[0,\t0]],[[0,\t0],[0,\t0],[0,\t1]],[[1,\t0],[1,\t0],[0.2,\t0.8]],[[0,\t0],[0.75,\t0.25],[0.4,\t0.6]],[[1,\t0],[0,\t1],[0.5,\t0.5]],[[0.5,\t0.5],[0,\t1],[0,\t0]],[[0,\t0],[0,\t0],[0,\t0]]]]"
   ]
  },
  {
   "cell_type": "code",
   "execution_count": 121,
   "metadata": {},
   "outputs": [
    {
     "data": {
      "text/html": [
       "<table style=\"border:1px solid black;\">\n",
       "<tr><th colspan='1'></th>\n",
       "      <th colspan='2' style='border:1px solid black;color:black;background-color:#808080;'><center>Old Peak</center>\n",
       "      </th></tr>\n",
       "<tr><th style='border:1px solid black;color:black;background-color:#808080'><center>Excercise Angina</center></th><th style='border:1px solid black;border-bottom-style: double;color:black;background-color:#BBBBBB'>\n",
       "      <center>Normal</center></th><th style='border:1px solid black;border-bottom-style: double;color:black;background-color:#BBBBBB'>\n",
       "      <center>Risk</center></th></tr>\n",
       "<tr><th style='border:1px solid black;color:black;background-color:#BBBBBB'><center>No</center></th><td style='color:black;background-color:#86f764;text-align:right;'>0.9401</td><td style='color:black;background-color:#f78664;text-align:right;'>0.0599</td></tr>\n",
       "<tr><th style='border:1px solid black;color:black;background-color:#BBBBBB'><center>Yes</center></th><td style='color:black;background-color:#9ce164;text-align:right;'>0.7733</td><td style='color:black;background-color:#e19c64;text-align:right;'>0.2267</td></tr>\n",
       "</table>"
      ],
      "text/plain": [
       "(pyAgrum.Potential<double>@0000013750AFF240) \n",
       "      ||  Old Peak         |\n",
       "Excerc||Normal   |Risk     |\n",
       "------||---------|---------|\n",
       "No    || 0.9401  | 0.0599  |\n",
       "Yes   || 0.7733  | 0.2267  |"
      ]
     },
     "execution_count": 121,
     "metadata": {},
     "output_type": "execute_result"
    }
   ],
   "source": [
    "bn.cpt(OP)"
   ]
  },
  {
   "cell_type": "code",
   "execution_count": 117,
   "metadata": {},
   "outputs": [
    {
     "data": {
      "text/html": [
       "<table style=\"border:1px solid black;\">\n",
       "<tr><th colspan='3'></th>\n",
       "      <th colspan='2' style='border:1px solid black;color:black;background-color:#808080;'><center>Heart Disease</center>\n",
       "      </th></tr>\n",
       "<tr><th style='border:1px solid black;color:black;background-color:#808080'><center>Chest Pain Type</center></th><th style='border:1px solid black;color:black;background-color:#808080'><center>Max HR</center></th><th style='border:1px solid black;color:black;background-color:#808080'><center>Cholesterol</center></th><th style='border:1px solid black;border-bottom-style: double;color:black;background-color:#BBBBBB'>\n",
       "      <center>Yes</center></th><th style='border:1px solid black;border-bottom-style: double;color:black;background-color:#BBBBBB'>\n",
       "      <center>No</center></th></tr>\n",
       "<tr><th style='border:1px solid black;color:black;background-color:#BBBBBB;' rowspan = '24'>\n",
       "            <center>ASY</center></th><th style='border:1px solid black;color:black;background-color:#BBBBBB;' rowspan = '3'>\n",
       "            <center>60-79</center></th><th style='border:1px solid black;color:black;background-color:#BBBBBB'><center><200</center></th><td style='text-align:right;'>0.0000</td><td style='text-align:right;'>0.0000</td></tr>\n",
       "<tr><th style='border:1px solid black;color:black;background-color:#BBBBBB'><center>200-239</center></th><td style='text-align:right;'>0.0000</td><td style='text-align:right;'>0.0000</td></tr>\n",
       "<tr><th style='border:1px solid black;color:black;background-color:#BBBBBB'><center>>240</center></th><td style='text-align:right;'>0.0000</td><td style='text-align:right;'>0.0000</td></tr>\n",
       "<tr><th style='border:1px solid black;color:black;background-color:#BBBBBB;' rowspan = '3'>\n",
       "            <center>80-99</center></th><th style='border:1px solid black;color:black;background-color:#BBBBBB'><center><200</center></th><td style='text-align:right;'>0.0000</td><td style='text-align:right;'>0.0000</td></tr>\n",
       "<tr><th style='border:1px solid black;color:black;background-color:#BBBBBB'><center>200-239</center></th><td style='text-align:right;'>0.0000</td><td style='text-align:right;'>0.0000</td></tr>\n",
       "<tr><th style='border:1px solid black;color:black;background-color:#BBBBBB'><center>>240</center></th><td style='text-align:right;'>0.0000</td><td style='text-align:right;'>0.0000</td></tr>\n",
       "<tr><th style='border:1px solid black;color:black;background-color:#BBBBBB;' rowspan = '3'>\n",
       "            <center>100-119</center></th><th style='border:1px solid black;color:black;background-color:#BBBBBB'><center><200</center></th><td style='text-align:right;'>0.0000</td><td style='text-align:right;'>0.0000</td></tr>\n",
       "<tr><th style='border:1px solid black;color:black;background-color:#BBBBBB'><center>200-239</center></th><td style='text-align:right;'>0.0000</td><td style='text-align:right;'>0.0000</td></tr>\n",
       "<tr><th style='border:1px solid black;color:black;background-color:#BBBBBB'><center>>240</center></th><td style='text-align:right;'>0.0000</td><td style='text-align:right;'>0.0000</td></tr>\n",
       "<tr><th style='border:1px solid black;color:black;background-color:#BBBBBB;' rowspan = '3'>\n",
       "            <center>120-139</center></th><th style='border:1px solid black;color:black;background-color:#BBBBBB'><center><200</center></th><td style='text-align:right;'>0.0000</td><td style='text-align:right;'>0.0000</td></tr>\n",
       "<tr><th style='border:1px solid black;color:black;background-color:#BBBBBB'><center>200-239</center></th><td style='text-align:right;'>0.0000</td><td style='text-align:right;'>0.0000</td></tr>\n",
       "<tr><th style='border:1px solid black;color:black;background-color:#BBBBBB'><center>>240</center></th><td style='text-align:right;'>0.0000</td><td style='text-align:right;'>0.0000</td></tr>\n",
       "<tr><th style='border:1px solid black;color:black;background-color:#BBBBBB;' rowspan = '3'>\n",
       "            <center>140-159</center></th><th style='border:1px solid black;color:black;background-color:#BBBBBB'><center><200</center></th><td style='text-align:right;'>0.0000</td><td style='text-align:right;'>0.0000</td></tr>\n",
       "<tr><th style='border:1px solid black;color:black;background-color:#BBBBBB'><center>200-239</center></th><td style='text-align:right;'>0.0000</td><td style='text-align:right;'>0.0000</td></tr>\n",
       "<tr><th style='border:1px solid black;color:black;background-color:#BBBBBB'><center>>240</center></th><td style='text-align:right;'>0.0000</td><td style='text-align:right;'>0.0000</td></tr>\n",
       "<tr><th style='border:1px solid black;color:black;background-color:#BBBBBB;' rowspan = '3'>\n",
       "            <center>160-179</center></th><th style='border:1px solid black;color:black;background-color:#BBBBBB'><center><200</center></th><td style='text-align:right;'>0.0000</td><td style='text-align:right;'>0.0000</td></tr>\n",
       "<tr><th style='border:1px solid black;color:black;background-color:#BBBBBB'><center>200-239</center></th><td style='text-align:right;'>0.0000</td><td style='text-align:right;'>0.0000</td></tr>\n",
       "<tr><th style='border:1px solid black;color:black;background-color:#BBBBBB'><center>>240</center></th><td style='text-align:right;'>0.0000</td><td style='text-align:right;'>0.0000</td></tr>\n",
       "<tr><th style='border:1px solid black;color:black;background-color:#BBBBBB;' rowspan = '3'>\n",
       "            <center>180-199</center></th><th style='border:1px solid black;color:black;background-color:#BBBBBB'><center><200</center></th><td style='text-align:right;'>0.0000</td><td style='text-align:right;'>0.0000</td></tr>\n",
       "<tr><th style='border:1px solid black;color:black;background-color:#BBBBBB'><center>200-239</center></th><td style='text-align:right;'>0.0000</td><td style='text-align:right;'>0.0000</td></tr>\n",
       "<tr><th style='border:1px solid black;color:black;background-color:#BBBBBB'><center>>240</center></th><td style='text-align:right;'>0.0000</td><td style='text-align:right;'>0.0000</td></tr>\n",
       "<tr><th style='border:1px solid black;color:black;background-color:#BBBBBB;' rowspan = '3'>\n",
       "            <center>200-219</center></th><th style='border:1px solid black;color:black;background-color:#BBBBBB'><center><200</center></th><td style='text-align:right;'>0.0000</td><td style='text-align:right;'>0.0000</td></tr>\n",
       "<tr><th style='border:1px solid black;color:black;background-color:#BBBBBB'><center>200-239</center></th><td style='text-align:right;'>0.0000</td><td style='text-align:right;'>0.0000</td></tr>\n",
       "<tr><th style='border:1px solid black;color:black;background-color:#BBBBBB'><center>>240</center></th><td style='text-align:right;'>0.0000</td><td style='text-align:right;'>0.0000</td></tr>\n",
       "<tr><th style='border:1px solid black;color:black;background-color:#BBBBBB;' rowspan = '24'>\n",
       "            <center>ATA</center></th><th style='border:1px solid black;color:black;background-color:#BBBBBB;' rowspan = '3'>\n",
       "            <center>60-79</center></th><th style='border:1px solid black;color:black;background-color:#BBBBBB'><center><200</center></th><td style='text-align:right;'>0.0000</td><td style='text-align:right;'>0.0000</td></tr>\n",
       "<tr><th style='border:1px solid black;color:black;background-color:#BBBBBB'><center>200-239</center></th><td style='text-align:right;'>0.0000</td><td style='text-align:right;'>0.0000</td></tr>\n",
       "<tr><th style='border:1px solid black;color:black;background-color:#BBBBBB'><center>>240</center></th><td style='text-align:right;'>0.0000</td><td style='text-align:right;'>0.0000</td></tr>\n",
       "<tr><th style='border:1px solid black;color:black;background-color:#BBBBBB;' rowspan = '3'>\n",
       "            <center>80-99</center></th><th style='border:1px solid black;color:black;background-color:#BBBBBB'><center><200</center></th><td style='text-align:right;'>0.0000</td><td style='text-align:right;'>0.0000</td></tr>\n",
       "<tr><th style='border:1px solid black;color:black;background-color:#BBBBBB'><center>200-239</center></th><td style='text-align:right;'>0.0000</td><td style='text-align:right;'>0.0000</td></tr>\n",
       "<tr><th style='border:1px solid black;color:black;background-color:#BBBBBB'><center>>240</center></th><td style='text-align:right;'>0.0000</td><td style='text-align:right;'>0.0000</td></tr>\n",
       "<tr><th style='border:1px solid black;color:black;background-color:#BBBBBB;' rowspan = '3'>\n",
       "            <center>100-119</center></th><th style='border:1px solid black;color:black;background-color:#BBBBBB'><center><200</center></th><td style='text-align:right;'>0.0000</td><td style='text-align:right;'>0.0000</td></tr>\n",
       "<tr><th style='border:1px solid black;color:black;background-color:#BBBBBB'><center>200-239</center></th><td style='text-align:right;'>0.0000</td><td style='text-align:right;'>0.0000</td></tr>\n",
       "<tr><th style='border:1px solid black;color:black;background-color:#BBBBBB'><center>>240</center></th><td style='text-align:right;'>0.0000</td><td style='text-align:right;'>0.0000</td></tr>\n",
       "<tr><th style='border:1px solid black;color:black;background-color:#BBBBBB;' rowspan = '3'>\n",
       "            <center>120-139</center></th><th style='border:1px solid black;color:black;background-color:#BBBBBB'><center><200</center></th><td style='text-align:right;'>0.0000</td><td style='text-align:right;'>0.0000</td></tr>\n",
       "<tr><th style='border:1px solid black;color:black;background-color:#BBBBBB'><center>200-239</center></th><td style='text-align:right;'>0.0000</td><td style='text-align:right;'>0.0000</td></tr>\n",
       "<tr><th style='border:1px solid black;color:black;background-color:#BBBBBB'><center>>240</center></th><td style='text-align:right;'>0.0000</td><td style='text-align:right;'>0.0000</td></tr>\n",
       "<tr><th style='border:1px solid black;color:black;background-color:#BBBBBB;' rowspan = '3'>\n",
       "            <center>140-159</center></th><th style='border:1px solid black;color:black;background-color:#BBBBBB'><center><200</center></th><td style='text-align:right;'>0.0000</td><td style='text-align:right;'>0.0000</td></tr>\n",
       "<tr><th style='border:1px solid black;color:black;background-color:#BBBBBB'><center>200-239</center></th><td style='text-align:right;'>0.0000</td><td style='text-align:right;'>0.0000</td></tr>\n",
       "<tr><th style='border:1px solid black;color:black;background-color:#BBBBBB'><center>>240</center></th><td style='text-align:right;'>0.0000</td><td style='text-align:right;'>0.0000</td></tr>\n",
       "<tr><th style='border:1px solid black;color:black;background-color:#BBBBBB;' rowspan = '3'>\n",
       "            <center>160-179</center></th><th style='border:1px solid black;color:black;background-color:#BBBBBB'><center><200</center></th><td style='text-align:right;'>0.0000</td><td style='text-align:right;'>0.0000</td></tr>\n",
       "<tr><th style='border:1px solid black;color:black;background-color:#BBBBBB'><center>200-239</center></th><td style='text-align:right;'>0.0000</td><td style='text-align:right;'>0.0000</td></tr>\n",
       "<tr><th style='border:1px solid black;color:black;background-color:#BBBBBB'><center>>240</center></th><td style='text-align:right;'>0.0000</td><td style='text-align:right;'>0.0000</td></tr>\n",
       "<tr><th style='border:1px solid black;color:black;background-color:#BBBBBB;' rowspan = '3'>\n",
       "            <center>180-199</center></th><th style='border:1px solid black;color:black;background-color:#BBBBBB'><center><200</center></th><td style='text-align:right;'>0.0000</td><td style='text-align:right;'>0.0000</td></tr>\n",
       "<tr><th style='border:1px solid black;color:black;background-color:#BBBBBB'><center>200-239</center></th><td style='text-align:right;'>0.0000</td><td style='text-align:right;'>0.0000</td></tr>\n",
       "<tr><th style='border:1px solid black;color:black;background-color:#BBBBBB'><center>>240</center></th><td style='text-align:right;'>0.0000</td><td style='text-align:right;'>0.0000</td></tr>\n",
       "<tr><th style='border:1px solid black;color:black;background-color:#BBBBBB;' rowspan = '3'>\n",
       "            <center>200-219</center></th><th style='border:1px solid black;color:black;background-color:#BBBBBB'><center><200</center></th><td style='text-align:right;'>0.0000</td><td style='text-align:right;'>0.0000</td></tr>\n",
       "<tr><th style='border:1px solid black;color:black;background-color:#BBBBBB'><center>200-239</center></th><td style='text-align:right;'>0.0000</td><td style='text-align:right;'>0.0000</td></tr>\n",
       "<tr><th style='border:1px solid black;color:black;background-color:#BBBBBB'><center>>240</center></th><td style='text-align:right;'>0.0000</td><td style='text-align:right;'>0.0000</td></tr>\n",
       "<tr><th style='border:1px solid black;color:black;background-color:#BBBBBB;' rowspan = '24'>\n",
       "            <center>NAP</center></th><th style='border:1px solid black;color:black;background-color:#BBBBBB;' rowspan = '3'>\n",
       "            <center>60-79</center></th><th style='border:1px solid black;color:black;background-color:#BBBBBB'><center><200</center></th><td style='text-align:right;'>0.0000</td><td style='text-align:right;'>0.0000</td></tr>\n",
       "<tr><th style='border:1px solid black;color:black;background-color:#BBBBBB'><center>200-239</center></th><td style='text-align:right;'>0.0000</td><td style='text-align:right;'>0.0000</td></tr>\n",
       "<tr><th style='border:1px solid black;color:black;background-color:#BBBBBB'><center>>240</center></th><td style='text-align:right;'>0.0000</td><td style='text-align:right;'>0.0000</td></tr>\n",
       "<tr><th style='border:1px solid black;color:black;background-color:#BBBBBB;' rowspan = '3'>\n",
       "            <center>80-99</center></th><th style='border:1px solid black;color:black;background-color:#BBBBBB'><center><200</center></th><td style='text-align:right;'>0.0000</td><td style='text-align:right;'>0.0000</td></tr>\n",
       "<tr><th style='border:1px solid black;color:black;background-color:#BBBBBB'><center>200-239</center></th><td style='text-align:right;'>0.0000</td><td style='text-align:right;'>0.0000</td></tr>\n",
       "<tr><th style='border:1px solid black;color:black;background-color:#BBBBBB'><center>>240</center></th><td style='text-align:right;'>0.0000</td><td style='text-align:right;'>0.0000</td></tr>\n",
       "<tr><th style='border:1px solid black;color:black;background-color:#BBBBBB;' rowspan = '3'>\n",
       "            <center>100-119</center></th><th style='border:1px solid black;color:black;background-color:#BBBBBB'><center><200</center></th><td style='text-align:right;'>0.0000</td><td style='text-align:right;'>0.0000</td></tr>\n",
       "<tr><th style='border:1px solid black;color:black;background-color:#BBBBBB'><center>200-239</center></th><td style='text-align:right;'>0.0000</td><td style='text-align:right;'>0.0000</td></tr>\n",
       "<tr><th style='border:1px solid black;color:black;background-color:#BBBBBB'><center>>240</center></th><td style='text-align:right;'>0.0000</td><td style='text-align:right;'>0.0000</td></tr>\n",
       "<tr><th style='border:1px solid black;color:black;background-color:#BBBBBB;' rowspan = '3'>\n",
       "            <center>120-139</center></th><th style='border:1px solid black;color:black;background-color:#BBBBBB'><center><200</center></th><td style='text-align:right;'>0.0000</td><td style='text-align:right;'>0.0000</td></tr>\n",
       "<tr><th style='border:1px solid black;color:black;background-color:#BBBBBB'><center>200-239</center></th><td style='text-align:right;'>0.0000</td><td style='text-align:right;'>0.0000</td></tr>\n",
       "<tr><th style='border:1px solid black;color:black;background-color:#BBBBBB'><center>>240</center></th><td style='text-align:right;'>0.0000</td><td style='text-align:right;'>0.0000</td></tr>\n",
       "<tr><th style='border:1px solid black;color:black;background-color:#BBBBBB;' rowspan = '3'>\n",
       "            <center>140-159</center></th><th style='border:1px solid black;color:black;background-color:#BBBBBB'><center><200</center></th><td style='text-align:right;'>0.0000</td><td style='text-align:right;'>0.0000</td></tr>\n",
       "<tr><th style='border:1px solid black;color:black;background-color:#BBBBBB'><center>200-239</center></th><td style='text-align:right;'>0.0000</td><td style='text-align:right;'>0.0000</td></tr>\n",
       "<tr><th style='border:1px solid black;color:black;background-color:#BBBBBB'><center>>240</center></th><td style='text-align:right;'>0.0000</td><td style='text-align:right;'>0.0000</td></tr>\n",
       "<tr><th style='border:1px solid black;color:black;background-color:#BBBBBB;' rowspan = '3'>\n",
       "            <center>160-179</center></th><th style='border:1px solid black;color:black;background-color:#BBBBBB'><center><200</center></th><td style='text-align:right;'>0.0000</td><td style='text-align:right;'>0.0000</td></tr>\n",
       "<tr><th style='border:1px solid black;color:black;background-color:#BBBBBB'><center>200-239</center></th><td style='text-align:right;'>0.0000</td><td style='text-align:right;'>0.0000</td></tr>\n",
       "<tr><th style='border:1px solid black;color:black;background-color:#BBBBBB'><center>>240</center></th><td style='text-align:right;'>0.0000</td><td style='text-align:right;'>0.0000</td></tr>\n",
       "<tr><th style='border:1px solid black;color:black;background-color:#BBBBBB;' rowspan = '3'>\n",
       "            <center>180-199</center></th><th style='border:1px solid black;color:black;background-color:#BBBBBB'><center><200</center></th><td style='text-align:right;'>0.0000</td><td style='text-align:right;'>0.0000</td></tr>\n",
       "<tr><th style='border:1px solid black;color:black;background-color:#BBBBBB'><center>200-239</center></th><td style='text-align:right;'>0.0000</td><td style='text-align:right;'>0.0000</td></tr>\n",
       "<tr><th style='border:1px solid black;color:black;background-color:#BBBBBB'><center>>240</center></th><td style='text-align:right;'>0.0000</td><td style='text-align:right;'>0.0000</td></tr>\n",
       "<tr><th style='border:1px solid black;color:black;background-color:#BBBBBB;' rowspan = '3'>\n",
       "            <center>200-219</center></th><th style='border:1px solid black;color:black;background-color:#BBBBBB'><center><200</center></th><td style='text-align:right;'>0.0000</td><td style='text-align:right;'>0.0000</td></tr>\n",
       "<tr><th style='border:1px solid black;color:black;background-color:#BBBBBB'><center>200-239</center></th><td style='text-align:right;'>0.0000</td><td style='text-align:right;'>0.0000</td></tr>\n",
       "<tr><th style='border:1px solid black;color:black;background-color:#BBBBBB'><center>>240</center></th><td style='text-align:right;'>0.0000</td><td style='text-align:right;'>0.0000</td></tr>\n",
       "<tr><th style='border:1px solid black;color:black;background-color:#BBBBBB;' rowspan = '24'>\n",
       "            <center>TA</center></th><th style='border:1px solid black;color:black;background-color:#BBBBBB;' rowspan = '3'>\n",
       "            <center>60-79</center></th><th style='border:1px solid black;color:black;background-color:#BBBBBB'><center><200</center></th><td style='text-align:right;'>0.0000</td><td style='text-align:right;'>0.0000</td></tr>\n",
       "<tr><th style='border:1px solid black;color:black;background-color:#BBBBBB'><center>200-239</center></th><td style='text-align:right;'>0.0000</td><td style='text-align:right;'>0.0000</td></tr>\n",
       "<tr><th style='border:1px solid black;color:black;background-color:#BBBBBB'><center>>240</center></th><td style='text-align:right;'>0.0000</td><td style='text-align:right;'>0.0000</td></tr>\n",
       "<tr><th style='border:1px solid black;color:black;background-color:#BBBBBB;' rowspan = '3'>\n",
       "            <center>80-99</center></th><th style='border:1px solid black;color:black;background-color:#BBBBBB'><center><200</center></th><td style='text-align:right;'>0.0000</td><td style='text-align:right;'>0.0000</td></tr>\n",
       "<tr><th style='border:1px solid black;color:black;background-color:#BBBBBB'><center>200-239</center></th><td style='text-align:right;'>0.0000</td><td style='text-align:right;'>0.0000</td></tr>\n",
       "<tr><th style='border:1px solid black;color:black;background-color:#BBBBBB'><center>>240</center></th><td style='text-align:right;'>0.0000</td><td style='text-align:right;'>0.0000</td></tr>\n",
       "<tr><th style='border:1px solid black;color:black;background-color:#BBBBBB;' rowspan = '3'>\n",
       "            <center>100-119</center></th><th style='border:1px solid black;color:black;background-color:#BBBBBB'><center><200</center></th><td style='text-align:right;'>0.0000</td><td style='text-align:right;'>0.0000</td></tr>\n",
       "<tr><th style='border:1px solid black;color:black;background-color:#BBBBBB'><center>200-239</center></th><td style='text-align:right;'>0.0000</td><td style='text-align:right;'>0.0000</td></tr>\n",
       "<tr><th style='border:1px solid black;color:black;background-color:#BBBBBB'><center>>240</center></th><td style='text-align:right;'>0.0000</td><td style='text-align:right;'>0.0000</td></tr>\n",
       "<tr><th style='border:1px solid black;color:black;background-color:#BBBBBB;' rowspan = '3'>\n",
       "            <center>120-139</center></th><th style='border:1px solid black;color:black;background-color:#BBBBBB'><center><200</center></th><td style='text-align:right;'>0.0000</td><td style='text-align:right;'>0.0000</td></tr>\n",
       "<tr><th style='border:1px solid black;color:black;background-color:#BBBBBB'><center>200-239</center></th><td style='text-align:right;'>0.0000</td><td style='text-align:right;'>0.0000</td></tr>\n",
       "<tr><th style='border:1px solid black;color:black;background-color:#BBBBBB'><center>>240</center></th><td style='text-align:right;'>0.0000</td><td style='text-align:right;'>0.0000</td></tr>\n",
       "<tr><th style='border:1px solid black;color:black;background-color:#BBBBBB;' rowspan = '3'>\n",
       "            <center>140-159</center></th><th style='border:1px solid black;color:black;background-color:#BBBBBB'><center><200</center></th><td style='text-align:right;'>0.0000</td><td style='text-align:right;'>0.0000</td></tr>\n",
       "<tr><th style='border:1px solid black;color:black;background-color:#BBBBBB'><center>200-239</center></th><td style='text-align:right;'>0.0000</td><td style='text-align:right;'>0.0000</td></tr>\n",
       "<tr><th style='border:1px solid black;color:black;background-color:#BBBBBB'><center>>240</center></th><td style='text-align:right;'>0.0000</td><td style='text-align:right;'>0.0000</td></tr>\n",
       "<tr><th style='border:1px solid black;color:black;background-color:#BBBBBB;' rowspan = '3'>\n",
       "            <center>160-179</center></th><th style='border:1px solid black;color:black;background-color:#BBBBBB'><center><200</center></th><td style='text-align:right;'>0.0000</td><td style='text-align:right;'>0.0000</td></tr>\n",
       "<tr><th style='border:1px solid black;color:black;background-color:#BBBBBB'><center>200-239</center></th><td style='text-align:right;'>0.0000</td><td style='text-align:right;'>0.0000</td></tr>\n",
       "<tr><th style='border:1px solid black;color:black;background-color:#BBBBBB'><center>>240</center></th><td style='text-align:right;'>0.0000</td><td style='text-align:right;'>0.0000</td></tr>\n",
       "<tr><th style='border:1px solid black;color:black;background-color:#BBBBBB;' rowspan = '3'>\n",
       "            <center>180-199</center></th><th style='border:1px solid black;color:black;background-color:#BBBBBB'><center><200</center></th><td style='text-align:right;'>0.0000</td><td style='text-align:right;'>0.0000</td></tr>\n",
       "<tr><th style='border:1px solid black;color:black;background-color:#BBBBBB'><center>200-239</center></th><td style='text-align:right;'>0.0000</td><td style='text-align:right;'>0.0000</td></tr>\n",
       "<tr><th style='border:1px solid black;color:black;background-color:#BBBBBB'><center>>240</center></th><td style='text-align:right;'>0.0000</td><td style='text-align:right;'>0.0000</td></tr>\n",
       "<tr><th style='border:1px solid black;color:black;background-color:#BBBBBB;' rowspan = '3'>\n",
       "            <center>200-219</center></th><th style='border:1px solid black;color:black;background-color:#BBBBBB'><center><200</center></th><td style='text-align:right;'>0.0000</td><td style='text-align:right;'>0.0000</td></tr>\n",
       "<tr><th style='border:1px solid black;color:black;background-color:#BBBBBB'><center>200-239</center></th><td style='text-align:right;'>0.0000</td><td style='text-align:right;'>0.0000</td></tr>\n",
       "<tr><th style='border:1px solid black;color:black;background-color:#BBBBBB'><center>>240</center></th><td style='text-align:right;'>0.0000</td><td style='text-align:right;'>0.0000</td></tr>\n",
       "</table>"
      ],
      "text/plain": [
       "(pyAgrum.Potential<double>@0000013750AFF3E0) \n",
       "                    ||  Heart Disease    |\n",
       "Choles|Max HR|Chest ||Yes      |No       |\n",
       "------|------|------||---------|---------|\n",
       "<200  |60-79 |ASY   || 0.0000  | 0.0000  |\n",
       "200-23|60-79 |ASY   || 0.0000  | 0.0000  |\n",
       ">240  |60-79 |ASY   || 0.0000  | 0.0000  |\n",
       "<200  |80-99 |ASY   || 0.0000  | 0.0000  |\n",
       "200-23|80-99 |ASY   || 0.0000  | 0.0000  |\n",
       ">240  |80-99 |ASY   || 0.0000  | 0.0000  |\n",
       "[...84 more line(s) ...]\n",
       "<200  |180-19|TA    || 0.0000  | 0.0000  |\n",
       "200-23|180-19|TA    || 0.0000  | 0.0000  |\n",
       ">240  |180-19|TA    || 0.0000  | 0.0000  |\n",
       "<200  |200-21|TA    || 0.0000  | 0.0000  |\n",
       "200-23|200-21|TA    || 0.0000  | 0.0000  |\n",
       ">240  |200-21|TA    || 0.0000  | 0.0000  |"
      ]
     },
     "execution_count": 117,
     "metadata": {},
     "output_type": "execute_result"
    }
   ],
   "source": [
    "bn.cpt(HD)"
   ]
  },
  {
   "cell_type": "code",
   "execution_count": null,
   "metadata": {},
   "outputs": [],
   "source": []
  }
 ],
 "metadata": {
  "interpreter": {
   "hash": "ac59ebe37160ed0dfa835113d9b8498d9f09ceb179beaac4002f036b9467c963"
  },
  "kernelspec": {
   "display_name": "Python 3.9.6 64-bit",
   "name": "python3"
  },
  "language_info": {
   "codemirror_mode": {
    "name": "ipython",
    "version": 3
   },
   "file_extension": ".py",
   "mimetype": "text/x-python",
   "name": "python",
   "nbconvert_exporter": "python",
   "pygments_lexer": "ipython3",
   "version": "3.9.6"
  },
  "orig_nbformat": 4
 },
 "nbformat": 4,
 "nbformat_minor": 2
}
