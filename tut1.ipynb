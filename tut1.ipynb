{
 "cells": [
  {
   "cell_type": "markdown",
   "metadata": {},
   "source": [
    "# Tutorial 1"
   ]
  },
  {
   "cell_type": "code",
   "execution_count": 12,
   "metadata": {},
   "outputs": [],
   "source": [
    "from pylab import *\n",
    "import matplotlib.pyplot as plt\n",
    "import os\n",
    "import pyAgrum as gum\n",
    "import pyAgrum.lib.notebook as gnb"
   ]
  },
  {
   "cell_type": "code",
   "execution_count": 4,
   "metadata": {},
   "outputs": [
    {
     "name": "stdout",
     "output_type": "stream",
     "text": [
      "BN{nodes: 0, arcs: 0, domainSize: 1, dim: 0}\n"
     ]
    }
   ],
   "source": [
    "bn=gum.BayesNet('WaterSprinkler')\n",
    "print(bn)"
   ]
  },
  {
   "cell_type": "code",
   "execution_count": 5,
   "metadata": {},
   "outputs": [
    {
     "name": "stdout",
     "output_type": "stream",
     "text": [
      "0\n",
      "1 2 3\n",
      "BN{nodes: 4, arcs: 0, domainSize: 16, dim: 8}\n"
     ]
    }
   ],
   "source": [
    "c=bn.add(gum.LabelizedVariable('c','cloudy ?',2))\n",
    "print(c)\n",
    "s, r, w = [ bn.add(name, 2) for name in \"srw\" ]\n",
    "print (s,r,w)\n",
    "print (bn)"
   ]
  },
  {
   "cell_type": "code",
   "execution_count": 8,
   "metadata": {},
   "outputs": [
    {
     "name": "stdout",
     "output_type": "stream",
     "text": [
      "BN{nodes: 4, arcs: 4, domainSize: 16, dim: 18}\n"
     ]
    }
   ],
   "source": [
    "for link in [(c,s),(c,r),(s,w),(r,w)]:\n",
    "    bn.addArc(*link)\n",
    "print(bn)"
   ]
  },
  {
   "cell_type": "code",
   "execution_count": 13,
   "metadata": {},
   "outputs": [
    {
     "data": {
      "text/html": [
       "<svg xmlns=\"http://www.w3.org/2000/svg\" xmlns:xlink=\"http://www.w3.org/1999/xlink\" width=\"134pt\" height=\"188pt\" viewBox=\"0.00 0.00 134.00 188.00\">\n",
       "<g id=\"graph0\" class=\"graph\" transform=\"scale(1 1) rotate(0) translate(4 184)\">\n",
       "<title>G</title>\n",
       "<!-- c -->\n",
       "<g id=\"node1\" class=\"node\">\n",
       "<title>c</title>\n",
       "<g id=\"a_node1\"><a xlink:title=\"(0) c\">\n",
       "<ellipse fill=\"#404040\" stroke=\"black\" cx=\"63\" cy=\"-162\" rx=\"27\" ry=\"18\"/>\n",
       "<text text-anchor=\"middle\" x=\"63\" y=\"-158.3\" font-family=\"Times New Roman,serif\" font-size=\"14.00\" fill=\"white\">c</text>\n",
       "</a>\n",
       "</g>\n",
       "</g>\n",
       "<!-- s -->\n",
       "<g id=\"node3\" class=\"node\">\n",
       "<title>s</title>\n",
       "<g id=\"a_node3\"><a xlink:title=\"(1) s\">\n",
       "<ellipse fill=\"#404040\" stroke=\"black\" cx=\"27\" cy=\"-90\" rx=\"27\" ry=\"18\"/>\n",
       "<text text-anchor=\"middle\" x=\"27\" y=\"-86.3\" font-family=\"Times New Roman,serif\" font-size=\"14.00\" fill=\"white\">s</text>\n",
       "</a>\n",
       "</g>\n",
       "</g>\n",
       "<!-- c&#45;&gt;s -->\n",
       "<g id=\"edge1\" class=\"edge\">\n",
       "<title>c-&gt;s</title>\n",
       "<g id=\"a_edge1\"><a xlink:title=\"(0, 1) : \">\n",
       "<path fill=\"none\" stroke=\"#4a4a4a\" d=\"M54.65,-144.76C50.29,-136.28 44.85,-125.71 39.96,-116.2\"/>\n",
       "<polygon fill=\"#4a4a4a\" stroke=\"#4a4a4a\" points=\"42.99,-114.44 35.3,-107.15 36.77,-117.64 42.99,-114.44\"/>\n",
       "</a>\n",
       "</g>\n",
       "</g>\n",
       "<!-- r -->\n",
       "<g id=\"node4\" class=\"node\">\n",
       "<title>r</title>\n",
       "<g id=\"a_node4\"><a xlink:title=\"(2) r\">\n",
       "<ellipse fill=\"#404040\" stroke=\"black\" cx=\"99\" cy=\"-90\" rx=\"27\" ry=\"18\"/>\n",
       "<text text-anchor=\"middle\" x=\"99\" y=\"-86.3\" font-family=\"Times New Roman,serif\" font-size=\"14.00\" fill=\"white\">r</text>\n",
       "</a>\n",
       "</g>\n",
       "</g>\n",
       "<!-- c&#45;&gt;r -->\n",
       "<g id=\"edge2\" class=\"edge\">\n",
       "<title>c-&gt;r</title>\n",
       "<g id=\"a_edge2\"><a xlink:title=\"(0, 2) : \">\n",
       "<path fill=\"none\" stroke=\"#4a4a4a\" d=\"M71.35,-144.76C75.71,-136.28 81.15,-125.71 86.04,-116.2\"/>\n",
       "<polygon fill=\"#4a4a4a\" stroke=\"#4a4a4a\" points=\"89.23,-117.64 90.7,-107.15 83.01,-114.44 89.23,-117.64\"/>\n",
       "</a>\n",
       "</g>\n",
       "</g>\n",
       "<!-- w -->\n",
       "<g id=\"node2\" class=\"node\">\n",
       "<title>w</title>\n",
       "<g id=\"a_node2\"><a xlink:title=\"(3) w\">\n",
       "<ellipse fill=\"#404040\" stroke=\"black\" cx=\"63\" cy=\"-18\" rx=\"27\" ry=\"18\"/>\n",
       "<text text-anchor=\"middle\" x=\"63\" y=\"-14.3\" font-family=\"Times New Roman,serif\" font-size=\"14.00\" fill=\"white\">w</text>\n",
       "</a>\n",
       "</g>\n",
       "</g>\n",
       "<!-- s&#45;&gt;w -->\n",
       "<g id=\"edge4\" class=\"edge\">\n",
       "<title>s-&gt;w</title>\n",
       "<g id=\"a_edge4\"><a xlink:title=\"(1, 3) : \">\n",
       "<path fill=\"none\" stroke=\"#4a4a4a\" d=\"M35.35,-72.76C39.71,-64.28 45.15,-53.71 50.04,-44.2\"/>\n",
       "<polygon fill=\"#4a4a4a\" stroke=\"#4a4a4a\" points=\"53.23,-45.64 54.7,-35.15 47.01,-42.44 53.23,-45.64\"/>\n",
       "</a>\n",
       "</g>\n",
       "</g>\n",
       "<!-- r&#45;&gt;w -->\n",
       "<g id=\"edge3\" class=\"edge\">\n",
       "<title>r-&gt;w</title>\n",
       "<g id=\"a_edge3\"><a xlink:title=\"(2, 3) : \">\n",
       "<path fill=\"none\" stroke=\"#4a4a4a\" d=\"M90.65,-72.76C86.29,-64.28 80.85,-53.71 75.96,-44.2\"/>\n",
       "<polygon fill=\"#4a4a4a\" stroke=\"#4a4a4a\" points=\"78.99,-42.44 71.3,-35.15 72.77,-45.64 78.99,-42.44\"/>\n",
       "</a>\n",
       "</g>\n",
       "</g>\n",
       "</g>\n",
       "</svg>"
      ],
      "text/plain": [
       "(pyAgrum.BayesNet<double>@00000201808AADF0) BN{nodes: 4, arcs: 4, domainSize: 16, dim: 18}"
      ]
     },
     "execution_count": 13,
     "metadata": {},
     "output_type": "execute_result"
    }
   ],
   "source": [
    "bn"
   ]
  },
  {
   "cell_type": "code",
   "execution_count": 15,
   "metadata": {},
   "outputs": [
    {
     "data": {
      "text/html": [
       "<table style=\"border:1px solid black;\">\n",
       "<tr style='border:1px solid black;color:black;background-color:#808080'>\n",
       "      <th colspan='2'><center>c</center></th></tr>\n",
       "<tr><th style='border:1px solid black;border-bottom-style: double;color:black;background-color:#BBBBBB'>\n",
       "      <center>0</center></th><th style='border:1px solid black;border-bottom-style: double;color:black;background-color:#BBBBBB'>\n",
       "      <center>1</center></th></tr>\n",
       "<tr><td style='color:black;background-color:#bfbf64;text-align:right;'>0.5000</td><td style='color:black;background-color:#bfbf64;text-align:right;'>0.5000</td></tr>\n",
       "</table>"
      ],
      "text/plain": [
       "(pyAgrum.Potential<double>@000002018F7C5AB0) \n",
       "  c                |\n",
       "0        |1        |\n",
       "---------|---------|\n",
       " 0.5000  | 0.5000  |"
      ]
     },
     "execution_count": 15,
     "metadata": {},
     "output_type": "execute_result"
    }
   ],
   "source": [
    "bn.cpt(\"c\").fillWith([0.5,0.5])"
   ]
  },
  {
   "cell_type": "code",
   "execution_count": 17,
   "metadata": {},
   "outputs": [],
   "source": [
    "bn.cpt(\"s\")[:]=[ [0.5,0.5],[0.9,0.1]]"
   ]
  },
  {
   "cell_type": "code",
   "execution_count": 22,
   "metadata": {},
   "outputs": [
    {
     "data": {
      "text/html": [
       "<table style=\"border:1px solid black;\">\n",
       "<tr><th colspan='1'></th>\n",
       "      <th colspan='2' style='border:1px solid black;color:black;background-color:#808080;'><center>s</center>\n",
       "      </th></tr>\n",
       "<tr><th style='border:1px solid black;color:black;background-color:#808080'><center>c</center></th><th style='border:1px solid black;border-bottom-style: double;color:black;background-color:#BBBBBB'>\n",
       "      <center>0</center></th><th style='border:1px solid black;border-bottom-style: double;color:black;background-color:#BBBBBB'>\n",
       "      <center>1</center></th></tr>\n",
       "<tr><th style='border:1px solid black;color:black;background-color:#BBBBBB'><center>0</center></th><td style='color:black;background-color:#bfbf64;text-align:right;'>0.5000</td><td style='color:black;background-color:#bfbf64;text-align:right;'>0.5000</td></tr>\n",
       "<tr><th style='border:1px solid black;color:black;background-color:#BBBBBB'><center>1</center></th><td style='color:black;background-color:#8bf264;text-align:right;'>0.9000</td><td style='color:black;background-color:#f28b64;text-align:right;'>0.1000</td></tr>\n",
       "</table>"
      ],
      "text/plain": [
       "(pyAgrum.Potential<double>@000002018F7C5FD0) \n",
       "      ||  s                |\n",
       "c     ||0        |1        |\n",
       "------||---------|---------|\n",
       "0     || 0.5000  | 0.5000  |\n",
       "1     || 0.9000  | 0.1000  |"
      ]
     },
     "execution_count": 22,
     "metadata": {},
     "output_type": "execute_result"
    }
   ],
   "source": [
    "(bn.cpt(\"s\"))"
   ]
  },
  {
   "cell_type": "code",
   "execution_count": null,
   "metadata": {},
   "outputs": [],
   "source": []
  }
 ],
 "metadata": {
  "interpreter": {
   "hash": "ac59ebe37160ed0dfa835113d9b8498d9f09ceb179beaac4002f036b9467c963"
  },
  "kernelspec": {
   "display_name": "Python 3.9.6 64-bit",
   "name": "python3"
  },
  "language_info": {
   "codemirror_mode": {
    "name": "ipython",
    "version": 3
   },
   "file_extension": ".py",
   "mimetype": "text/x-python",
   "name": "python",
   "nbconvert_exporter": "python",
   "pygments_lexer": "ipython3",
   "version": "3.9.6"
  },
  "orig_nbformat": 4
 },
 "nbformat": 4,
 "nbformat_minor": 2
}
